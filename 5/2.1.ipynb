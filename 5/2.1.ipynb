{
 "cells": [
  {
   "cell_type": "code",
   "execution_count": 54,
   "metadata": {},
   "outputs": [],
   "source": [
    "%matplotlib inline\n",
    "import numpy as np\n",
    "a = 37 # кол-во вариантов\n",
    "goals = [0]*a # кол-во выпадений каждого варианта\n",
    "n = 100 # кол-во испытаний\n",
    "p = [0]*a # частота выпадений"
   ]
  },
  {
   "cell_type": "code",
   "execution_count": 55,
   "metadata": {},
   "outputs": [
    {
     "name": "stdout",
     "output_type": "stream",
     "text": [
      "Результат испытаний [23 31 27 31 24 35 10 18 12 13 30 16  4  3  3  6 23 10 18  0  6 10 12 27\n",
      "  4 21 13 17 26  8 28  6 29 17 22  1 18  1 21  4  6  1 17  6  1 36  4 17\n",
      " 24 28 23 12 13 25 24 31 35 23 36 11 29 16 14 30 29  1  4 22  5 26 34 12\n",
      " 26 32  7 28 10 22 31  5  7 25 30  1 19 29 12 19 14  0 27 20  8  8 25 27\n",
      " 36  2 22 17]\n"
     ]
    }
   ],
   "source": [
    "pool = np.random.randint(0, a, n)\n",
    "print('Результат испытаний', pool)"
   ]
  },
  {
   "cell_type": "code",
   "execution_count": 56,
   "metadata": {},
   "outputs": [
    {
     "name": "stdout",
     "output_type": "stream",
     "text": [
      "кол-во выпадений каждого варианта [2, 6, 1, 2, 5, 2, 5, 2, 3, 0, 4, 1, 5, 3, 2, 0, 2, 5, 3, 2, 1, 2, 4, 4, 3, 3, 3, 4, 3, 4, 3, 4, 1, 0, 1, 2, 3]\n",
      "частота выпадений каждого варианта (расчитанная вероятность) [0.02, 0.06, 0.01, 0.02, 0.05, 0.02, 0.05, 0.02, 0.03, 0, 0.04, 0.01, 0.05, 0.03, 0.02, 0, 0.02, 0.05, 0.03, 0.02, 0.01, 0.02, 0.04, 0.04, 0.03, 0.03, 0.03, 0.04, 0.03, 0.04, 0.03, 0.04, 0.01, 0, 0.01, 0.02, 0.03]\n",
      "сумма вероятностей 1.0000000000000002\n"
     ]
    }
   ],
   "source": [
    "for el in pool:\n",
    "    goals[el] += 1\n",
    "\n",
    "print('кол-во выпадений каждого варианта', goals)\n",
    "\n",
    "for el in pool:\n",
    "    p[el] = goals[el] / n\n",
    "\n",
    "print('частота выпадений каждого варианта (расчитанная вероятность)', p)\n",
    "\n",
    "print('сумма вероятностей', sum(p))"
   ]
  },
  {
   "cell_type": "code",
   "execution_count": null,
   "metadata": {},
   "outputs": [],
   "source": []
  }
 ],
 "metadata": {
  "kernelspec": {
   "display_name": "Python 3",
   "language": "python",
   "name": "python3"
  },
  "language_info": {
   "codemirror_mode": {
    "name": "ipython",
    "version": 3
   },
   "file_extension": ".py",
   "mimetype": "text/x-python",
   "name": "python",
   "nbconvert_exporter": "python",
   "pygments_lexer": "ipython3",
   "version": "3.8.5"
  }
 },
 "nbformat": 4,
 "nbformat_minor": 4
}