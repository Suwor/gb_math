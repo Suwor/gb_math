{
 "cells": [
  {
   "cell_type": "code",
   "execution_count": 1,
   "metadata": {},
   "outputs": [],
   "source": [
    "import numpy as np\n",
    "import itertools"
   ]
  },
  {
   "cell_type": "code",
   "execution_count": 2,
   "metadata": {},
   "outputs": [
    {
     "name": "stdout",
     "output_type": "stream",
     "text": [
      "ABC\n",
      "ABD\n",
      "ACB\n",
      "ACD\n",
      "ADB\n",
      "ADC\n",
      "BAC\n",
      "BAD\n",
      "BCA\n",
      "BCD\n",
      "BDA\n",
      "BDC\n",
      "CAB\n",
      "CAD\n",
      "CBA\n",
      "CBD\n",
      "CDA\n",
      "CDB\n",
      "DAB\n",
      "DAC\n",
      "DBA\n",
      "DBC\n",
      "DCA\n",
      "DCB\n"
     ]
    }
   ],
   "source": [
    "for p in itertools.permutations(\"ABCD\",3):\n",
    "    print(''.join(str(x) for x in p))"
   ]
  },
  {
   "cell_type": "code",
   "execution_count": 16,
   "metadata": {},
   "outputs": [
    {
     "name": "stdout",
     "output_type": "stream",
     "text": [
      "abcd\n",
      "abce\n",
      "abde\n",
      "acde\n",
      "bcde\n"
     ]
    }
   ],
   "source": [
    "for p in itertools.combinations(\"abcde\",4):\n",
    "    print(''.join(p))"
   ]
  },
  {
   "cell_type": "code",
   "execution_count": null,
   "metadata": {},
   "outputs": [],
   "source": []
  }
 ],
 "metadata": {
  "kernelspec": {
   "display_name": "Python 3",
   "language": "python",
   "name": "python3"
  },
  "language_info": {
   "codemirror_mode": {
    "name": "ipython",
    "version": 3
   },
   "file_extension": ".py",
   "mimetype": "text/x-python",
   "name": "python",
   "nbconvert_exporter": "python",
   "pygments_lexer": "ipython3",
   "version": "3.8.5"
  }
 },
 "nbformat": 4,
 "nbformat_minor": 4
}
