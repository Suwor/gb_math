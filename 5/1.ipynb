{
 "cells": [
  {
   "cell_type": "code",
   "execution_count": 1,
   "metadata": {},
   "outputs": [],
   "source": [
    "%matplotlib inline\n",
    "import numpy as np"
   ]
  },
  {
   "cell_type": "code",
   "execution_count": 17,
   "metadata": {},
   "outputs": [
    {
     "data": {
      "text/plain": [
       "array([29,  6,  5,  6, 35, 32, 36, 26, 35, 17, 27,  3, 22,  1,  4,  6, 28,\n",
       "       11, 35,  3, 12, 16, 29, 19,  5, 34, 34, 31, 19, 36,  8, 15,  3, 21,\n",
       "       15, 28,  2,  2, 28, 17, 13, 10, 10, 18,  9, 20,  8,  3, 23, 28, 22,\n",
       "       15, 14, 34, 15,  0, 10, 15, 11,  0, 24, 10,  7, 18,  7,  8, 16, 34,\n",
       "       35,  9, 26,  2,  4,  2, 10, 11, 22, 15, 21,  2, 12,  1, 14, 23,  2,\n",
       "       18, 22, 31, 31,  6,  7, 17, 28, 12, 10, 27, 26, 35, 13,  5])"
      ]
     },
     "execution_count": 17,
     "metadata": {},
     "output_type": "execute_result"
    }
   ],
   "source": [
    "np.random.randint(0,37, 100)"
   ]
  },
  {
   "cell_type": "code",
   "execution_count": null,
   "metadata": {},
   "outputs": [],
   "source": []
  }
 ],
 "metadata": {
  "kernelspec": {
   "display_name": "Python 3",
   "language": "python",
   "name": "python3"
  },
  "language_info": {
   "codemirror_mode": {
    "name": "ipython",
    "version": 3
   },
   "file_extension": ".py",
   "mimetype": "text/x-python",
   "name": "python",
   "nbconvert_exporter": "python",
   "pygments_lexer": "ipython3",
   "version": "3.8.5"
  }
 },
 "nbformat": 4,
 "nbformat_minor": 4
}
